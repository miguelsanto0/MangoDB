{
 "cells": [
  {
   "cell_type": "code",
   "execution_count": 180,
   "metadata": {
    "id": "ZOcIc9uiBiBm"
   },
   "outputs": [
    {
     "name": "stdout",
     "output_type": "stream",
     "text": [
      "66.219.236.250"
     ]
    },
    {
     "name": "stderr",
     "output_type": "stream",
     "text": [
      "  % Total    % Received % Xferd  Average Speed   Time    Time     Time  Current\n",
      "                                 Dload  Upload   Total   Spent    Left  Speed\n",
      "\n",
      "  0     0    0     0    0     0      0      0 --:--:-- --:--:-- --:--:--     0\n",
      "100    14  100    14    0     0    130      0 --:--:-- --:--:-- --:--:--   132\n"
     ]
    },
    {
     "name": "stdout",
     "output_type": "stream",
     "text": [
      "\n"
     ]
    }
   ],
   "source": [
    "# This will tell you your current IP address from google colab\n",
    "!curl api.ipify.org"
   ]
  },
  {
   "cell_type": "code",
   "execution_count": 3,
   "metadata": {
    "id": "Ig3zmD6SSagg"
   },
   "outputs": [
    {
     "name": "stdout",
     "output_type": "stream",
     "text": [
      "Requirement already satisfied: pymongo in c:\\users\\public\\documents\\anaconda3\\lib\\site-packages (4.6.2)\n",
      "Requirement already satisfied: dnspython<3.0.0,>=1.16.0 in c:\\users\\public\\documents\\anaconda3\\lib\\site-packages (from pymongo) (2.6.1)\n"
     ]
    }
   ],
   "source": [
    "# Install needed python packages\n",
    "!pip install pymongo\n",
    "\n",
    "from pymongo.mongo_client import MongoClient\n",
    "from pymongo.server_api import ServerApi"
   ]
  },
  {
   "cell_type": "code",
   "execution_count": 2,
   "metadata": {
    "id": "EQuQxNabWof_"
   },
   "outputs": [
    {
     "name": "stderr",
     "output_type": "stream",
     "text": [
      "  % Total    % Received % Xferd  Average Speed   Time    Time     Time  Current\n",
      "                                 Dload  Upload   Total   Spent    Left  Speed\n",
      "\n",
      "  0     0    0     0    0     0      0      0 --:--:-- --:--:-- --:--:--     0\n",
      "  0     0    0     0    0     0      0      0 --:--:--  0:00:01 --:--:--     0\n",
      "  0     0    0     0    0     0      0      0 --:--:--  0:00:02 --:--:--     0\n",
      "  0     0    0     0    0     0      0      0 --:--:--  0:00:03 --:--:--     0\n",
      "  0     0    0     0    0     0      0      0 --:--:--  0:00:04 --:--:--     0\n",
      "  0     0    0     0    0     0      0      0 --:--:--  0:00:05 --:--:--     0\n",
      "  0     0    0     0    0     0      0      0 --:--:--  0:00:06 --:--:--     0\n",
      "  0     0    0     0    0     0      0      0 --:--:--  0:00:07 --:--:--     0\n",
      "  0     0    0     0    0     0      0      0 --:--:--  0:00:08 --:--:--     0\n",
      "  0 99.9M    0  1371    0     0    151      0   8d 00h  0:00:09   8d 00h   285\n",
      "  5 99.9M    5 5840k    0     0   603k      0  0:02:49  0:00:09  0:02:40 1323k\n",
      " 11 99.9M   11 11.2M    0     0  1076k      0  0:01:35  0:00:10  0:01:25 2607k\n",
      " 18 99.9M   18 18.7M    0     0  1646k      0  0:01:02  0:00:11  0:00:51 4364k\n",
      " 28 99.9M   28 28.3M    0     0  2291k      0  0:00:44  0:00:12  0:00:32 6604k\n",
      " 37 99.9M   37 37.5M    0     0  2808k      0  0:00:36  0:00:13  0:00:23 8320k\n",
      " 48 99.9M   48 47.9M    0     0  3349k      0  0:00:30  0:00:14  0:00:16 8660k\n",
      " 56 99.9M   56 56.2M    0     0  3672k      0  0:00:27  0:00:15  0:00:12 9214k\n",
      " 65 99.9M   65 65.7M    0     0  4040k      0  0:00:25  0:00:16  0:00:09 9625k\n",
      " 74 99.9M   74 74.5M    0     0  4318k      0  0:00:23  0:00:17  0:00:06 9456k\n",
      " 85 99.9M   85 85.4M    0     0  4684k      0  0:00:21  0:00:18  0:00:03 9814k\n",
      " 97 99.9M   97 97.3M    0     0  5067k      0  0:00:20  0:00:19  0:00:01  9.8M\n",
      "100 99.9M  100 99.9M    0     0  5151k      0  0:00:19  0:00:19 --:--:-- 10.4M\n"
     ]
    }
   ],
   "source": [
    "# Download us-counties.csv\n",
    "!curl -L \"https://raw.githubusercontent.com/nytimes/covid-19-data/master/us-counties.csv\" > us-counties.csv"
   ]
  },
  {
   "cell_type": "code",
   "execution_count": 4,
   "metadata": {
    "id": "ZOPjAoP3UubV"
   },
   "outputs": [
    {
     "name": "stdout",
     "output_type": "stream",
     "text": [
      "Pinged your deployment. You successfully connected to MongoDB!\n"
     ]
    }
   ],
   "source": [
    "# Connect to MongoDB Atlas (insert your own credentials)\n",
    "# Replace the placeholder with your Atlas connection string\n",
    "uri = \"\" # <-- put your own connection string here!\n",
    "\n",
    "# Set the Stable API version when creating a new client\n",
    "client = MongoClient(uri, server_api=ServerApi('1'))\n",
    "\n",
    "# Send a ping to confirm a successful connection\n",
    "try:\n",
    "    client.admin.command('ping')\n",
    "    print(\"Pinged your deployment. You successfully connected to MongoDB!\")\n",
    "except Exception as e:\n",
    "    print(e)"
   ]
  },
  {
   "cell_type": "code",
   "execution_count": 5,
   "metadata": {
    "id": "sZPvG-R-LmJg"
   },
   "outputs": [],
   "source": [
    "# Create or get your DB\n",
    "db_name = \"Cluster0\"\n",
    "db = client.get_database(db_name)"
   ]
  },
  {
   "cell_type": "markdown",
   "metadata": {
    "id": "p4r0EFhN2_RD"
   },
   "source": [
    "Spark SQL Rewrite in MongoDB 1-6\n",
    "\n",
    "*Redo the SparkSQL assignment in MongoDB using the aggregation pipeline.*"
   ]
  },
  {
   "cell_type": "code",
   "execution_count": 10,
   "metadata": {
    "id": "g0DHgU4KQzZL"
   },
   "outputs": [
    {
     "name": "stdout",
     "output_type": "stream",
     "text": [
      "done\n"
     ]
    }
   ],
   "source": [
    "# 1. Write code to define the schema and then read in the dataset\n",
    "#    (took me 17 minutes!!!)\n",
    "\n",
    "import json\n",
    "import csv\n",
    "import pandas\n",
    "# Load the CSV file\n",
    "df = pandas.read_csv('C:\\\\Users\\\\BYU Rental\\\\Desktop\\\\us-counties.csv')\n",
    "data = df.to_dict('records')\n",
    "db.casesdeaths.drop()\n",
    "db.casesdeaths.insert_many(data)\n",
    "print(\"done\")\n"
   ]
  },
  {
   "cell_type": "code",
   "execution_count": 181,
   "metadata": {
    "id": "tHnjfAg02ujD"
   },
   "outputs": [
    {
     "name": "stdout",
     "output_type": "stream",
     "text": [
      "[{'county': 'New York City', 'state': 'New York', 'deaths': 40267.0}]\n"
     ]
    }
   ],
   "source": [
    "# 2. Write code to find the county with the most deaths\n",
    "pipeline = [\n",
    "    {\"$sort\": {\"deaths\": -1}},\n",
    "    {\"$limit\": 1},\n",
    "    {\"$project\": {\"_id\": 0, \"state\": 1, \"county\": 1, \"deaths\": 1}}\n",
    "]\n",
    "\n",
    "result = list(db.casesdeaths.aggregate(pipeline))\n",
    "\n",
    "print(result)\n",
    "\n"
   ]
  },
  {
   "cell_type": "code",
   "execution_count": 182,
   "metadata": {
    "id": "pSM5tYVB2uWK"
   },
   "outputs": [
    {
     "name": "stdout",
     "output_type": "stream",
     "text": [
      "[{'county': 'Los Angeles', 'state': 'California', 'cases': 2908425}]\n"
     ]
    }
   ],
   "source": [
    "# 3. Write code to find the county with the most cases\n",
    "pipeline = [\n",
    "    {\"$sort\": {\"cases\": -1}},\n",
    "    {\"$limit\": 1},\n",
    "    {\"$project\": {\"_id\": 0, \"state\": 1, \"county\": 1, \"cases\": 1}}\n",
    "]\n",
    "\n",
    "result = list(db.casesdeaths.aggregate(pipeline))\n",
    "print(result)\n"
   ]
  },
  {
   "cell_type": "code",
   "execution_count": 183,
   "metadata": {
    "id": "yGJAaEsp2ty7"
   },
   "outputs": [
    {
     "name": "stdout",
     "output_type": "stream",
     "text": [
      "[{'county': 'Utah', 'state': 'Utah', 'cases': 203286}]\n"
     ]
    }
   ],
   "source": [
    "pipeline = [\n",
    "    {\"$match\": {\"county\": \"Utah\"}},\n",
    "    {\"$sort\": {\"cases\": -1}},\n",
    "    {\"$limit\": 1},\n",
    "    {\"$project\": {\"_id\": 0, \"state\": 1, \"county\": 1, \"cases\": 1}}\n",
    "]\n",
    "\n",
    "result = list(db.casesdeaths.aggregate(pipeline))\n",
    "print(result)\n"
   ]
  },
  {
   "cell_type": "code",
   "execution_count": 184,
   "metadata": {
    "id": "VHyhfHEY2sIq"
   },
   "outputs": [
    {
     "name": "stdout",
     "output_type": "stream",
     "text": [
      "State: Pennsylvania, Death Rate per State: 1.57\n",
      "State: Mississippi, Death Rate per State: 1.56\n",
      "State: Alabama, Death Rate per State: 1.50\n",
      "State: Arizona, Death Rate per State: 1.49\n",
      "State: Nevada, Death Rate per State: 1.47\n",
      "State: Georgia, Death Rate per State: 1.47\n",
      "State: Michigan, Death Rate per State: 1.46\n",
      "State: New Jersey, Death Rate per State: 1.45\n",
      "State: New Mexico, Death Rate per State: 1.45\n",
      "State: Ohio, Death Rate per State: 1.42\n",
      "State: Missouri, Death Rate per State: 1.41\n",
      "State: Connecticut, Death Rate per State: 1.40\n",
      "State: Indiana, Death Rate per State: 1.38\n",
      "State: Louisiana, Death Rate per State: 1.37\n",
      "State: West Virginia, Death Rate per State: 1.37\n",
      "State: Arkansas, Death Rate per State: 1.36\n",
      "State: Florida, Death Rate per State: 1.36\n",
      "State: Massachusetts, Death Rate per State: 1.32\n",
      "State: Maryland, Death Rate per State: 1.31\n",
      "State: New York, Death Rate per State: 1.31\n",
      "State: Texas, Death Rate per State: 1.30\n",
      "State: Oklahoma, Death Rate per State: 1.29\n",
      "State: Tennessee, Death Rate per State: 1.26\n",
      "State: Kansas, Death Rate per State: 1.24\n",
      "State: Montana, Death Rate per State: 1.23\n",
      "State: South Dakota, Death Rate per State: 1.22\n",
      "State: South Carolina, Death Rate per State: 1.21\n",
      "State: Iowa, Death Rate per State: 1.20\n",
      "State: Illinois, Death Rate per State: 1.18\n",
      "State: Virginia, Death Rate per State: 1.18\n",
      "State: Kentucky, Death Rate per State: 1.17\n",
      "State: Wyoming, Death Rate per State: 1.16\n",
      "State: Idaho, Death Rate per State: 1.10\n",
      "State: Delaware, Death Rate per State: 1.09\n",
      "State: Oregon, Death Rate per State: 1.02\n",
      "State: California, Death Rate per State: 0.97\n",
      "State: North Dakota, Death Rate per State: 0.95\n",
      "State: District of Columbia, Death Rate per State: 0.93\n",
      "State: Maine, Death Rate per State: 0.92\n",
      "State: North Carolina, Death Rate per State: 0.91\n",
      "State: Rhode Island, Death Rate per State: 0.91\n",
      "State: Colorado, Death Rate per State: 0.90\n",
      "State: Wisconsin, Death Rate per State: 0.88\n",
      "State: Nebraska, Death Rate per State: 0.88\n",
      "State: Minnesota, Death Rate per State: 0.86\n",
      "State: Washington, Death Rate per State: 0.84\n",
      "State: New Hampshire, Death Rate per State: 0.79\n",
      "State: Guam, Death Rate per State: 0.73\n",
      "State: Virgin Islands, Death Rate per State: 0.66\n",
      "State: Hawaii, Death Rate per State: 0.57\n",
      "State: American Samoa, Death Rate per State: 0.51\n",
      "State: Utah, Death Rate per State: 0.51\n",
      "State: Alaska, Death Rate per State: 0.48\n",
      "State: Vermont, Death Rate per State: 0.46\n",
      "State: Northern Mariana Islands, Death Rate per State: 0.26\n",
      "State: Puerto Rico, Death Rate per State: nan\n"
     ]
    }
   ],
   "source": [
    "# 5. Write code to find the death rate for each state and sort the states by death rate descending\n",
    "pipeline = [\n",
    "    {\"$group\": {\n",
    "        \"_id\": {\n",
    "            \"state\": \"$state\",\n",
    "            \"county\": \"$county\"\n",
    "        },\n",
    "        \"max_deaths_per_county\": {\"$max\": \"$deaths\"},\n",
    "        \"max_cases_per_county\": {\"$max\": \"$cases\"}\n",
    "    }},\n",
    "    {\"$group\": {\n",
    "        \"_id\": \"$_id.state\",\n",
    "        \"total_deaths\": {\"$sum\": \"$max_deaths_per_county\"},\n",
    "        \"total_cases\": {\"$sum\": \"$max_cases_per_county\"}\n",
    "    }},\n",
    "    {\"$project\": {\n",
    "        \"state\": \"$_id\",\n",
    "        \"_id\": 0,\n",
    "        \"total_cases\": \"$total_cases\",\n",
    "        \"total_deaths\": \"$total_deaths\",\n",
    "        \"death_rate\": {\n",
    "            \"$cond\": [\n",
    "                {\"$eq\": [\"$total_cases\", 0]},\n",
    "                0,\n",
    "                {\"$multiply\": [{\"$divide\": [\"$total_deaths\", \"$total_cases\"]}, 100]}\n",
    "            ]\n",
    "        }\n",
    "    }},\n",
    "    {\"$sort\": {\"death_rate\": -1}}\n",
    "]\n",
    "\n",
    "result = list(db.casesdeaths.aggregate(pipeline))\n",
    "for doc in result:\n",
    "        print(f\"State: {doc['state']}, Death Rate per State: {doc['death_rate']:.2f}\")\n",
    "\n",
    "\n"
   ]
  },
  {
   "cell_type": "code",
   "execution_count": 185,
   "metadata": {
    "id": "q3LZEI6VcYKX"
   },
   "outputs": [
    {
     "name": "stdout",
     "output_type": "stream",
     "text": [
      "County: Snohomish, Average Cases: 44398.22\n"
     ]
    }
   ],
   "source": [
    "# 6. Write code to something else interesting with this data – your choice\n",
    "pipeline = [\n",
    "    {\"$match\": {\"county\": \"Snohomish\"}},\n",
    "    {\"$group\": {\n",
    "        \"_id\": \"$county\",\n",
    "        \"total_cases\": {\"$sum\": \"$cases\"},\n",
    "        \"count\": {\"$sum\": 1}  \n",
    "    }},\n",
    "    {\"$project\": {\n",
    "        \"county\": \"$_id\",\n",
    "        \"_id\": 0,\n",
    "        \"average_cases\": {\"$divide\": [\"$total_cases\", \"$count\"]}\n",
    "    }}\n",
    "]\n",
    "\n",
    "result = list(db.casesdeaths.aggregate(pipeline))\n",
    "for doc in result:\n",
    "    print(f\"County: {doc['county']}, Average Cases: {doc['average_cases']:.2f}\")\n"
   ]
  },
  {
   "cell_type": "markdown",
   "metadata": {
    "id": "LjCcRMMn3FDE"
   },
   "source": [
    "In this next part we will get experience using MongoDB's aggegregation pipeline's $lookup stage to join collections in MongoDb. Specifically we'll join to our **cases/deaths data** with **[vaccination data](https://ourworldindata.org/us-states-vaccinations#what-share-of-the-population-has-completed-the-initial-vaccination-protocol)** and **[total population data](https://www2.census.gov/programs-surveys/popest/datasets/2010-2019/counties/totals/co-est2019-alldata.csv)**.  First we need to download and ingest the data.\n",
    "\n"
   ]
  },
  {
   "cell_type": "code",
   "execution_count": 9,
   "metadata": {
    "id": "f2gJVpv_3qHS"
   },
   "outputs": [
    {
     "name": "stderr",
     "output_type": "stream",
     "text": [
      "  % Total    % Received % Xferd  Average Speed   Time    Time     Time  Current\n",
      "                                 Dload  Upload   Total   Spent    Left  Speed\n",
      "\n",
      "  0     0    0     0    0     0      0      0 --:--:-- --:--:-- --:--:--     0\n",
      "  0 4804k    0 13710    0     0  15289      0  0:05:21 --:--:--  0:05:21 15301\n",
      "100 4804k  100 4804k    0     0  3427k      0  0:00:01  0:00:01 --:--:-- 3429k\n"
     ]
    }
   ],
   "source": [
    "# Get the CSV for covid vaccination data\n",
    "!curl -L \"https://raw.githubusercontent.com/owid/covid-19-data/master/public/data/vaccinations/us_state_vaccinations.csv\" > \"./us_state_vaccinations.csv\""
   ]
  },
  {
   "cell_type": "code",
   "execution_count": 11,
   "metadata": {
    "id": "1O16slNh-QAp"
   },
   "outputs": [
    {
     "name": "stdout",
     "output_type": "stream",
     "text": [
      "Done!\n"
     ]
    }
   ],
   "source": [
    "# Put the vaccinations data into the the DB  (took me 37 seconds)\n",
    "import json\n",
    "import csv\n",
    "import pandas\n",
    "with open(\"C:\\\\Users\\\\BYU Rental\\\\Desktop\\\\us_state_vaccinations.csv\") as f:\n",
    "  dataRows = csv.DictReader(f)\n",
    "  db.vaccinations.insert_many(dataRows)\n",
    "\n",
    "df = pandas.read_csv('C:\\\\Users\\\\BYU Rental\\\\Desktop\\\\us_state_vaccinations.csv')\n",
    "data = df.to_dict('records')\n",
    "db.vaccinations.drop()\n",
    "db.vaccinations.insert_many(data)\n",
    "print(\"Done!\")\n"
   ]
  },
  {
   "cell_type": "markdown",
   "metadata": {
    "id": "FHyQnR7mBvU4"
   },
   "source": [
    "Use the \\$lookup stage of the aggregation pipeline to join the vaccination and cases/deaths collections (you will need to group the covid case data by state) and use the \\$out stage to create a new joined collection."
   ]
  },
  {
   "cell_type": "code",
   "execution_count": 186,
   "metadata": {
    "id": "enAirkIq-H0i"
   },
   "outputs": [
    {
     "data": {
      "text/plain": [
       "[]"
      ]
     },
     "execution_count": 186,
     "metadata": {},
     "output_type": "execute_result"
    }
   ],
   "source": [
    "# Create a \"joined collection\" of data by state for cases, deaths, vaccinations counts\n",
    "# The cases and deaths data has over 2 million rows. You'll need to summarize it to\n",
    "# states before you can successfully join it to the other dataset.\n",
    "\n",
    "# YOUR CODE HERE\n",
    "res = db.vaccinations.aggregate([\n",
    "    {\n",
    "        \"$group\": {\n",
    "            \"_id\": \"$location\",\n",
    "            \"vaccinated\": {\n",
    "                \"$max\": \"$people_vaccinated\" \n",
    "                \n",
    "            }\n",
    "        }\n",
    "    },\n",
    "    {\n",
    "        \"$out\": \"vaccinated_state\"\n",
    "    }\n",
    "    \n",
    "])\n",
    "\n",
    "list(res)"
   ]
  },
  {
   "cell_type": "code",
   "execution_count": 14,
   "metadata": {
    "id": "cPvOQie_6ZNE"
   },
   "outputs": [
    {
     "name": "stderr",
     "output_type": "stream",
     "text": [
      "  % Total    % Received % Xferd  Average Speed   Time    Time     Time  Current\n",
      "                                 Dload  Upload   Total   Spent    Left  Speed\n",
      "\n",
      "  0     0    0     0    0     0      0      0 --:--:-- --:--:-- --:--:--     0\n",
      "  0     0    0     0    0     0      0      0 --:--:-- --:--:-- --:--:--     0\n",
      "100  225k    0  225k    0     0   199k      0 --:--:--  0:00:01 --:--:--  199k\n",
      "100 3559k    0 3559k    0     0  2596k      0 --:--:--  0:00:01 --:--:-- 2596k\n"
     ]
    }
   ],
   "source": [
    "# Get the total population (Use POPESTIMATE2019)\n",
    "!curl -L \"https://www2.census.gov/programs-surveys/popest/datasets/2010-2019/counties/totals/co-est2019-alldata.csv\" > \"./co-est2019-alldata.csv\""
   ]
  },
  {
   "cell_type": "code",
   "execution_count": 15,
   "metadata": {
    "id": "KIY41-k2-qsK"
   },
   "outputs": [
    {
     "name": "stdout",
     "output_type": "stream",
     "text": [
      "Done!\n"
     ]
    }
   ],
   "source": [
    "# Put population data into the DB (took me 10 seconds)\n",
    "# with open(\"./co-est2019-alldata.csv\", encoding='latin-1') as f:\n",
    "#   dataRows = csv.DictReader(f)\n",
    "#   db.population.insert_many(dataRows)\n",
    "\n",
    "df = pandas.read_csv('C:\\\\Users\\\\BYU Rental\\\\Desktop\\\\co-est2019-alldata.csv', encoding='latin-1')\n",
    "data = df.to_dict('records')\n",
    "db.populations.drop()\n",
    "db.populations.insert_many(data)\n",
    "print(\"Done!\")"
   ]
  },
  {
   "cell_type": "markdown",
   "metadata": {
    "id": "m7fsEVkI9mJy"
   },
   "source": [
    "Now let's incorrectly assume that vaccinations remove a person from possibility of infection and death. So based on our incorrect assumption, subtract the number who completed the initial vaccination protocol from the population of the state (POPESTIMATE2019 field) and and calculate a case percent and death percent of the population that was not ever vaccinated. 🤔"
   ]
  },
  {
   "cell_type": "code",
   "execution_count": 187,
   "metadata": {
    "id": "hvZD6WJ-DtIE"
   },
   "outputs": [
    {
     "data": {
      "text/plain": [
       "[]"
      ]
     },
     "execution_count": 187,
     "metadata": {},
     "output_type": "execute_result"
    }
   ],
   "source": [
    "# How will join the population data into this?\n",
    "#Summarize the Vaccinations Data: First, ensure that your vaccinations data is summarized by state if it's not already. You should have the total number of individuals who completed the vaccination protocol per state.\n",
    "#Not correct\n",
    "res = db.populations.aggregate([\n",
    "    {\n",
    "        \"$group\": {\n",
    "            \"_id\": \"$STNAME\",\n",
    "            \"population\": {\n",
    "                \"$max\": \"$POPESTIMATE2019\" \n",
    "                \n",
    "            }\n",
    "        }\n",
    "    },\n",
    "    {\n",
    "        \"$out\": \"population_state\"\n",
    "    }\n",
    "    \n",
    "])\n",
    "\n",
    "list(res)\n"
   ]
  },
  {
   "cell_type": "code",
   "execution_count": 188,
   "metadata": {},
   "outputs": [
    {
     "name": "stdout",
     "output_type": "stream",
     "text": [
      "Collection saved\n"
     ]
    }
   ],
   "source": [
    "pipeline = [\n",
    "    {\n",
    "        \"$group\": {\n",
    "            \"_id\": {\n",
    "                \"state\": \"$state\",\n",
    "                \"county\": \"$county\"\n",
    "            },\n",
    "            \"max_deaths_per_county\": {\"$max\": \"$deaths\"},\n",
    "            \"max_cases_per_county\": {\"$max\": \"$cases\"}\n",
    "        }\n",
    "    },\n",
    "    {\n",
    "        \"$group\": {\n",
    "            \"_id\": \"$_id.state\",\n",
    "            \"max_deaths\": {\"$max\": \"$max_deaths_per_county\"},\n",
    "            \"max_cases\": {\"$max\": \"$max_cases_per_county\"}\n",
    "        }\n",
    "    },\n",
    "    {\n",
    "        \"$merge\": {\n",
    "            \"into\": \"cases_per_state\",  \n",
    "            \"whenMatched\": \"replace\",  \n",
    "            \"whenNotMatched\": \"insert\"  \n",
    "        }\n",
    "    }\n",
    "]\n",
    "\n",
    "db.casesdeaths.aggregate(pipeline)\n",
    "print(\"Collection saved\")\n"
   ]
  },
  {
   "cell_type": "code",
   "execution_count": 189,
   "metadata": {},
   "outputs": [
    {
     "name": "stdout",
     "output_type": "stream",
     "text": [
      "Full Merge\n"
     ]
    }
   ],
   "source": [
    "pipeline = [\n",
    "    {\n",
    "        \"$lookup\": {\n",
    "            \"from\": \"population_state\",\n",
    "            \"localField\": \"_id\",\n",
    "            \"foreignField\": \"_id\",\n",
    "            \"as\": \"population_data\"\n",
    "        }\n",
    "    },\n",
    "    {\n",
    "        \"$unwind\": {\n",
    "            \"path\": \"$population_data\",\n",
    "            \"preserveNullAndEmptyArrays\": True\n",
    "        }\n",
    "    },\n",
    "    {\n",
    "        \"$lookup\": {\n",
    "            \"from\": \"vaccinated_state\",\n",
    "            \"localField\": \"_id\",\n",
    "            \"foreignField\": \"_id\",\n",
    "            \"as\": \"vaccine_data\"\n",
    "        }\n",
    "    },\n",
    "    {\n",
    "        \"$unwind\": {\n",
    "            \"path\": \"$vaccine_data\",\n",
    "            \"preserveNullAndEmptyArrays\": True\n",
    "        }\n",
    "    },\n",
    "    {\n",
    "        \"$project\": {\n",
    "            \"_id\": 0,\n",
    "            \"state\": \"$_id\",\n",
    "            \"max_deaths\": 1,\n",
    "            \"max_cases\": 1,\n",
    "            \"population\": \"$population_data.population\",\n",
    "            \"vaccinated\": \"$vaccine_data.vaccinated\"\n",
    "        }\n",
    "    },\n",
    "    {\n",
    "        \"$merge\": {\n",
    "            \"into\": \"state_data\",\n",
    "            \"whenMatched\": \"replace\",\n",
    "            \"whenNotMatched\": \"insert\"\n",
    "        }\n",
    "    }\n",
    "]\n",
    "\n",
    "db.cases_per_state.aggregate(pipeline)\n",
    "\n",
    "print(\"Full Merge\")\n"
   ]
  },
  {
   "cell_type": "markdown",
   "metadata": {
    "id": "uNRocr-GJLEZ"
   },
   "source": [
    "R1 - Report the highest 10 states and the lowest 10 states ordered by deaths divided by cases. (without subtracting vaccinated - see #5 from the SparkSQL redo)"
   ]
  },
  {
   "cell_type": "code",
   "execution_count": 190,
   "metadata": {
    "id": "uIEPZ5IDAjZC",
    "scrolled": false
   },
   "outputs": [
    {
     "name": "stdout",
     "output_type": "stream",
     "text": [
      "Top 10 States by Death Rate (Deaths/Cases):\n",
      "State: Puerto Rico, Death Rate: 0.062954\n",
      "State: Puerto Rico, Death Rate: 0.062954\n",
      "State: Puerto Rico, Death Rate: 0.062954\n",
      "State: Michigan, Death Rate: 0.019143\n",
      "State: Michigan, Death Rate: 0.019143\n",
      "State: Michigan, Death Rate: 0.019143\n",
      "State: New York, Death Rate: 0.016621\n",
      "State: New York, Death Rate: 0.016621\n",
      "State: New York, Death Rate: 0.016621\n",
      "State: Pennsylvania, Death Rate: 0.016079\n"
     ]
    }
   ],
   "source": [
    "# Highest 10 states Deaths/Cases (death rate)\n",
    "pipeline = [\n",
    "    {\n",
    "        \"$project\": {\n",
    "            \"state\": 1,\n",
    "            \"death_rate\": {\n",
    "                \"$cond\": [\n",
    "                    {\"$eq\": [\"$max_cases\", 0]},  \n",
    "                    0,\n",
    "                    {\"$divide\": [\"$max_deaths\", \"$max_cases\"]}\n",
    "                ]\n",
    "            }\n",
    "        }\n",
    "    },\n",
    "    {\"$sort\": {\"death_rate\": -1}},  \n",
    "    {\"$limit\": 10}  \n",
    "]\n",
    "\n",
    "top_states_by_death_rate = list(db.state_data.aggregate(pipeline))\n",
    "\n",
    "print(\"Top 10 States by Death Rate (Deaths/Cases):\")\n",
    "for state in top_states_by_death_rate:\n",
    "    print(f\"State: {state['state']}, Death Rate: {state['death_rate']:.6f}\")\n"
   ]
  },
  {
   "cell_type": "code",
   "execution_count": 191,
   "metadata": {
    "id": "UiC3bplkQqZK"
   },
   "outputs": [
    {
     "name": "stdout",
     "output_type": "stream",
     "text": [
      "Lowest 10 States by Death Rate (Deaths/Cases):\n",
      "State: Northern Mariana Islands, Death Rate: 0.003174\n",
      "State: Utah, Death Rate: 0.004723\n",
      "State: Alaska, Death Rate: 0.004990\n",
      "State: Vermont, Death Rate: 0.005054\n",
      "State: American Samoa, Death Rate: 0.005059\n",
      "State: North Carolina, Death Rate: 0.005399\n",
      "State: North Dakota, Death Rate: 0.005556\n",
      "State: Hawaii, Death Rate: 0.005956\n",
      "State: Washington, Death Rate: 0.006761\n",
      "State: Virgin Islands, Death Rate: 0.006826\n"
     ]
    }
   ],
   "source": [
    "# Lowest 10 states Deaths/Cases (death rate)\n",
    "pipeline = [\n",
    "    {\n",
    "        \"$group\": {\n",
    "            \"_id\": \"$state\",\n",
    "            \"max_deaths\": {\"$first\": \"$max_deaths\"},  \n",
    "            \"max_cases\": {\"$first\": \"$max_cases\"}  \n",
    "        }\n",
    "    },\n",
    "    {\n",
    "        \"$project\": {\n",
    "            \"state\": \"$_id\",\n",
    "            \"_id\": 0,\n",
    "            \"death_rate\": {\n",
    "                \"$cond\": [\n",
    "                    {\"$eq\": [\"$max_cases\", 0]},\n",
    "                    None,\n",
    "                    {\"$divide\": [\"$max_deaths\", \"$max_cases\"]}\n",
    "                ]\n",
    "            }\n",
    "        }\n",
    "    },\n",
    "    {\"$match\": {\"death_rate\": {\"$ne\": None}}},\n",
    "    {\"$sort\": {\"death_rate\": 1}},\n",
    "    {\"$limit\": 10}\n",
    "]\n",
    "\n",
    "bottom_states_by_death_rate = list(db.state_data.aggregate(pipeline))\n",
    "\n",
    "print(\"Lowest 10 States by Death Rate (Deaths/Cases):\")\n",
    "for state in bottom_states_by_death_rate:\n",
    "    print(f\"State: {state['state']}, Death Rate: {state['death_rate']:.6f}\")\n",
    "\n",
    "\n",
    "\n"
   ]
  },
  {
   "cell_type": "markdown",
   "metadata": {
    "id": "lJGIHJybJXeq"
   },
   "source": [
    "R2 - Report the highest 10 states and lowest 10 ordered by these new case and death percentages. (with subtracting vaccinated)"
   ]
  },
  {
   "cell_type": "code",
   "execution_count": 192,
   "metadata": {
    "id": "3pDk7gzcAmbj"
   },
   "outputs": [
    {
     "name": "stdout",
     "output_type": "stream",
     "text": [
      "Highest 10 states (cases / (population - vaccinated)):\n",
      "State: Vermont, Ratio: 1997.826923\n",
      "State: Maine, Ratio: 5.567479\n",
      "State: Hawaii, Ratio: 4.537809\n",
      "State: New Mexico, Ratio: 4.172439\n",
      "State: Delaware, Ratio: 4.056845\n",
      "State: Arizona, Ratio: 2.446424\n",
      "State: Nevada, Ratio: 2.399893\n",
      "State: New Hampshire, Ratio: 1.957990\n",
      "State: Alaska, Ratio: 1.614966\n",
      "State: New Jersey, Ratio: 1.589931\n"
     ]
    }
   ],
   "source": [
    "# Highest 10 states (cases / (population - vaccinated))\n",
    "pipeline = [\n",
    "    {\n",
    "        \"$group\": {\n",
    "            \"_id\": \"$state\",\n",
    "            \"max_cases_sum\": {\"$sum\": \"$max_cases\"},  \n",
    "            \"population\": {\"$first\": \"$population\"},  \n",
    "            \"vaccinated\": {\"$first\": \"$vaccinated\"}  \n",
    "        }\n",
    "    },\n",
    "    {\n",
    "        \"$project\": {\n",
    "            \"state\": \"$_id\",\n",
    "            \"_id\": 0,\n",
    "            \"cases_per_unvaccinated_population\": {\n",
    "                \"$cond\": [\n",
    "                    {\"$or\": [\n",
    "                        {\"$eq\": [\"$population\", 0]},\n",
    "                        {\"$lte\": [{\"$subtract\": [\"$population\", \"$vaccinated\"]}, 0]}\n",
    "                    ]},\n",
    "                    None,\n",
    "                    {\n",
    "                        \"$divide\": [\n",
    "                            \"$max_cases_sum\",\n",
    "                            {\"$subtract\": [\"$population\", \"$vaccinated\"]}\n",
    "                        ]\n",
    "                    }\n",
    "                ]\n",
    "            }\n",
    "        }\n",
    "    },\n",
    "    {\"$match\": {\"cases_per_unvaccinated_population\": {\"$ne\": None}}},\n",
    "    {\"$sort\": {\"cases_per_unvaccinated_population\": -1}},\n",
    "    {\"$limit\": 10}\n",
    "]\n",
    "\n",
    "top_states_by_cases_unvaccinated_ratio = list(db.state_data.aggregate(pipeline))\n",
    "\n",
    "print(\"Highest 10 states (cases / (population - vaccinated)):\")\n",
    "for state in top_states_by_cases_unvaccinated_ratio:\n",
    "    print(f\"State: {state['state']}, Ratio: {state['cases_per_unvaccinated_population']:.6f}\")"
   ]
  },
  {
   "cell_type": "code",
   "execution_count": 193,
   "metadata": {
    "id": "Iz1W2YH4QyRU"
   },
   "outputs": [
    {
     "name": "stdout",
     "output_type": "stream",
     "text": [
      "# Lowest 10 states (cases / (population - vaccinated)):\n",
      "State: Mississippi, Ratio: 0.002087\n",
      "State: Georgia, Ratio: 0.002111\n",
      "State: Louisiana, Ratio: 0.002347\n",
      "State: Ohio, Ratio: 0.002859\n",
      "State: Iowa, Ratio: 0.003605\n",
      "State: West Virginia, Ratio: 0.003746\n",
      "State: Indiana, Ratio: 0.003778\n",
      "State: Wyoming, Ratio: 0.003866\n",
      "State: Arkansas, Ratio: 0.003942\n",
      "State: South Carolina, Ratio: 0.004063\n"
     ]
    }
   ],
   "source": [
    "# Lowest 10 states (cases / (population - vaccinated))\n",
    "pipeline = [\n",
    "    {\n",
    "        \"$group\": {\n",
    "            \"_id\": \"$state\",\n",
    "            \"total_deaths\": {\"$sum\": \"$max_deaths\"},\n",
    "            \"total_cases\": {\"$sum\": \"$max_cases\"},\n",
    "            \"population\": {\"$first\": \"$population\"},  \n",
    "            \"vaccinated\": {\"$first\": \"$vaccinated\"}\n",
    "        }\n",
    "    },\n",
    "    {\n",
    "        \"$project\": {\n",
    "            \"state\": \"$_id\",\n",
    "            \"_id\": 0,\n",
    "            \"deaths_per_unvaccinated_population\": {\n",
    "                \"$divide\": [\n",
    "                    \"$total_deaths\",\n",
    "                    {\"$subtract\": [\"$population\", \"$vaccinated\"]}\n",
    "                ]\n",
    "            }\n",
    "        }\n",
    "    },\n",
    "    {\"$match\": {\"deaths_per_unvaccinated_population\": {\"$gte\": 0}}},\n",
    "    {\"$sort\": {\"deaths_per_unvaccinated_population\": 1}},\n",
    "    {\"$limit\": 10}\n",
    "]\n",
    "\n",
    "bottom_states_by_deaths_unvaccinated_ratio = list(db.state_data.aggregate(pipeline))\n",
    "\n",
    "print(\"# Lowest 10 states (cases / (population - vaccinated)):\")\n",
    "for state in bottom_states_by_deaths_unvaccinated_ratio:\n",
    "    print(f\"State: {state['state']}, Ratio: {state['deaths_per_unvaccinated_population']:.6f}\")\n"
   ]
  },
  {
   "cell_type": "code",
   "execution_count": 194,
   "metadata": {
    "id": "l0g4M3qSQz47"
   },
   "outputs": [
    {
     "name": "stdout",
     "output_type": "stream",
     "text": [
      "Highest 10 states (deaths / (population - vaccinated)):\n",
      "State: Vermont, Ratio: 3.365385\n",
      "State: New Mexico, Ratio: 0.017243\n",
      "State: Maine, Ratio: 0.012924\n",
      "State: Delaware, Ratio: 0.012720\n",
      "State: Nevada, Ratio: 0.012442\n",
      "State: Arizona, Ratio: 0.011007\n",
      "State: Hawaii, Ratio: 0.009009\n",
      "State: New Jersey, Ratio: 0.008002\n",
      "State: New Hampshire, Ratio: 0.005877\n",
      "State: Illinois, Ratio: 0.005668\n"
     ]
    }
   ],
   "source": [
    "# Highest 10 states (deaths / (population - vaccinated))\n",
    "pipeline = [\n",
    "    {\n",
    "        \"$group\": {\n",
    "            \"_id\": \"$state\",\n",
    "            \"max_deaths\": {\"$first\": \"$max_deaths\"},  \n",
    "            \"population\": {\"$first\": \"$population\"}, \n",
    "            \"vaccinated\": {\"$first\": \"$vaccinated\"}  \n",
    "        }\n",
    "    },\n",
    "    {\n",
    "        \"$project\": {\n",
    "            \"state\": \"$_id\",\n",
    "            \"_id\": 0,\n",
    "            \"deaths_per_unvaccinated_population\": {\n",
    "                \"$cond\": [\n",
    "                    {\"$or\": [\n",
    "                        {\"$eq\": [\"$population\", 0]},\n",
    "                        {\"$lte\": [{\"$subtract\": [\"$population\", \"$vaccinated\"]}, 0]}\n",
    "                    ]},\n",
    "                    None,  \n",
    "                    {\n",
    "                        \"$divide\": [\n",
    "                            \"$max_deaths\",\n",
    "                            {\"$subtract\": [\"$population\", \"$vaccinated\"]}\n",
    "                        ]\n",
    "                    }\n",
    "                ]\n",
    "            }\n",
    "        }\n",
    "    },\n",
    "    {\"$match\": {\"deaths_per_unvaccinated_population\": {\"$ne\": None}}},\n",
    "    {\"$sort\": {\"deaths_per_unvaccinated_population\": -1}},\n",
    "    {\"$limit\": 10}\n",
    "]\n",
    "\n",
    "top_states_by_deaths_unvaccinated_ratio = list(db.state_data.aggregate(pipeline))\n",
    "\n",
    "print(\"Highest 10 states (deaths / (population - vaccinated)):\")\n",
    "for state in top_states_by_deaths_unvaccinated_ratio:\n",
    "    print(f\"State: {state['state']}, Ratio: {state['deaths_per_unvaccinated_population']:.6f}\")\n",
    "\n"
   ]
  },
  {
   "cell_type": "code",
   "execution_count": 195,
   "metadata": {
    "id": "3JdThDJmQ8ea"
   },
   "outputs": [
    {
     "name": "stdout",
     "output_type": "stream",
     "text": [
      "Lowest 10 states (deaths / (population - vaccinated)):\n",
      "State: Mississippi, Ratio: 0.000696\n",
      "State: Georgia, Ratio: 0.000704\n",
      "State: Louisiana, Ratio: 0.000782\n",
      "State: Ohio, Ratio: 0.000953\n",
      "State: Iowa, Ratio: 0.001202\n",
      "State: West Virginia, Ratio: 0.001249\n",
      "State: Indiana, Ratio: 0.001259\n",
      "State: Wyoming, Ratio: 0.001289\n",
      "State: Arkansas, Ratio: 0.001314\n",
      "State: South Carolina, Ratio: 0.001354\n"
     ]
    }
   ],
   "source": [
    "# Lowest 10 states (deaths / (population - vaccinated))\n",
    "pipeline = [\n",
    "    {\n",
    "        \"$group\": {\n",
    "            \"_id\": \"$state\",\n",
    "            \"max_deaths\": {\"$first\": \"$max_deaths\"},  \n",
    "            \"population\": {\"$first\": \"$population\"},  \n",
    "            \"vaccinated\": {\"$first\": \"$vaccinated\"}  \n",
    "        }\n",
    "    },\n",
    "    {\n",
    "        \"$project\": {\n",
    "            \"state\": \"$_id\",\n",
    "            \"_id\": 0,\n",
    "            \"deaths_per_unvaccinated_population\": {\n",
    "                \"$cond\": [\n",
    "                    {\"$or\": [\n",
    "                        {\"$eq\": [\"$population\", 0]},  \n",
    "                        {\"$lte\": [{\"$subtract\": [\"$population\", \"$vaccinated\"]}, 0]}  \n",
    "                    ]},\n",
    "                    None,\n",
    "                    {\n",
    "                        \"$divide\": [\n",
    "                            \"$max_deaths\",\n",
    "                            {\"$subtract\": [\"$population\", \"$vaccinated\"]}\n",
    "                        ]\n",
    "                    }\n",
    "                ]\n",
    "            }\n",
    "        }\n",
    "    },\n",
    "    {\"$match\": {\"deaths_per_unvaccinated_population\": {\"$ne\": None}}},\n",
    "    {\"$sort\": {\"deaths_per_unvaccinated_population\": 1}},\n",
    "    {\"$limit\": 10}\n",
    "]\n",
    "\n",
    "bottom_states_by_deaths_unvaccinated_ratio = list(db.state_data.aggregate(pipeline))\n",
    "\n",
    "print(\"Lowest 10 states (deaths / (population - vaccinated)):\")\n",
    "for state in bottom_states_by_deaths_unvaccinated_ratio:\n",
    "    print(f\"State: {state['state']}, Ratio: {state['deaths_per_unvaccinated_population']:.6f}\")\n"
   ]
  },
  {
   "cell_type": "code",
   "execution_count": 196,
   "metadata": {},
   "outputs": [],
   "source": [
    "client.close()"
   ]
  },
  {
   "cell_type": "code",
   "execution_count": null,
   "metadata": {},
   "outputs": [],
   "source": []
  }
 ],
 "metadata": {
  "colab": {
   "provenance": []
  },
  "kernelspec": {
   "display_name": "Python 3 (ipykernel)",
   "language": "python",
   "name": "python3"
  },
  "language_info": {
   "codemirror_mode": {
    "name": "ipython",
    "version": 3
   },
   "file_extension": ".py",
   "mimetype": "text/x-python",
   "name": "python",
   "nbconvert_exporter": "python",
   "pygments_lexer": "ipython3",
   "version": "3.9.13"
  }
 },
 "nbformat": 4,
 "nbformat_minor": 1
}
